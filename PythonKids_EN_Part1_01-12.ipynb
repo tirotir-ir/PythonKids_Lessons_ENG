{
 "cells": [
  {
   "cell_type": "markdown",
   "id": "c1e222ae",
   "metadata": {},
   "source": [
    "\n",
    "<p align=\"left\">\n",
    "  <img src=\"tirotir-logo.svg\" width=\"220\" alt=\"Tirotir AI logo\">\n",
    "</p>\n",
    "\n",
    "# Python for Kids — Part 1: Fundamentals (Lessons 1–12)\n",
    "**Tirotir AI · Hoosh Masnooe (AI Training Center)** · **tirotir.ir**  \n",
    "Version: **2025-08-30**\n",
    "\n",
    "Each lesson has: **Story → Unplugged Activity → Short Code → Challenge**.\n"
   ]
  },
  {
   "cell_type": "markdown",
   "id": "32c9629b",
   "metadata": {},
   "source": [
    "## Table of Contents\n",
    "- [Lesson 1](#lesson-1)\n",
    "- [Lesson 2](#lesson-2)\n",
    "- [Lesson 3](#lesson-3)\n",
    "- [Lesson 4](#lesson-4)\n",
    "- [Lesson 5](#lesson-5)\n",
    "- [Lesson 6](#lesson-6)\n",
    "- [Lesson 7](#lesson-7)\n",
    "- [Lesson 8](#lesson-8)\n",
    "- [Lesson 9](#lesson-9)\n",
    "- [Lesson 10](#lesson-10)\n",
    "- [Lesson 11](#lesson-11)\n",
    "- [Lesson 12](#lesson-12)"
   ]
  },
  {
   "cell_type": "markdown",
   "id": "20eec60d",
   "metadata": {},
   "source": [
    "---\n",
    "\n",
    "## Lesson 1: Variable = labeled box\n",
    "<a id='lesson-1'></a>"
   ]
  },
  {
   "cell_type": "markdown",
   "id": "fe77e8ea",
   "metadata": {},
   "source": [
    "**Story:** Each box has a name; we put a value inside.\n",
    "\n",
    "**Unplugged Activity:** Write labels (a, b, c) on sticky notes; put number cards inside boxes."
   ]
  },
  {
   "cell_type": "markdown",
   "id": "3ba345c8",
   "metadata": {},
   "source": [
    "**Try this code:**"
   ]
  },
  {
   "cell_type": "code",
   "execution_count": null,
   "id": "79448cd3",
   "metadata": {},
   "outputs": [],
   "source": [
    "a = 3  # box a\n",
    "b = 5  # box b\n",
    "c = a + b\n",
    "print(c)  # what's in c?"
   ]
  },
  {
   "cell_type": "markdown",
   "id": "71762e7c",
   "metadata": {},
   "source": [
    "**Challenge:** Rename boxes to meaningful names (apples, bananas)."
   ]
  },
  {
   "cell_type": "markdown",
   "id": "d6b3aee2",
   "metadata": {},
   "source": [
    "---\n",
    "\n",
    "## Lesson 2: Data types = kinds of things\n",
    "<a id='lesson-2'></a>"
   ]
  },
  {
   "cell_type": "markdown",
   "id": "35c71318",
   "metadata": {},
   "source": [
    "**Story:** Numbers add up; strings like 'hello' stick together.\n",
    "\n",
    "**Unplugged Activity:** Separate 'number' vs 'word' cards and build pairs."
   ]
  },
  {
   "cell_type": "markdown",
   "id": "3d6f644d",
   "metadata": {},
   "source": [
    "**Try this code:**"
   ]
  },
  {
   "cell_type": "code",
   "execution_count": null,
   "id": "651d67c3",
   "metadata": {},
   "outputs": [],
   "source": [
    "x = 7       # number\n",
    "y = '7'     # text\n",
    "print(x + 3)       # 10\n",
    "print(y + '3')     # '73'"
   ]
  },
  {
   "cell_type": "markdown",
   "id": "11796468",
   "metadata": {},
   "source": [
    "**Challenge:** Make three number examples and three text examples."
   ]
  },
  {
   "cell_type": "markdown",
   "id": "cf850151",
   "metadata": {},
   "source": [
    "---\n",
    "\n",
    "## Lesson 3: Input/Output = mailbox & speaker\n",
    "<a id='lesson-3'></a>"
   ]
  },
  {
   "cell_type": "markdown",
   "id": "3b612493",
   "metadata": {},
   "source": [
    "**Story:** Kids drop a note (input); the speaker reads the result.\n",
    "\n",
    "**Unplugged Activity:** One student whispers a number; teacher says the answer out loud."
   ]
  },
  {
   "cell_type": "markdown",
   "id": "17e80564",
   "metadata": {},
   "source": [
    "**Try this code:**"
   ]
  },
  {
   "cell_type": "code",
   "execution_count": null,
   "id": "29361ce9",
   "metadata": {},
   "outputs": [],
   "source": [
    "name = input('What is your name? ')\n",
    "print('Hello', name, '!')"
   ]
  },
  {
   "cell_type": "markdown",
   "id": "a0a8b35b",
   "metadata": {},
   "source": [
    "**Challenge:** Ask for age and say 'Next year you will be ...'."
   ]
  },
  {
   "cell_type": "markdown",
   "id": "97915765",
   "metadata": {},
   "source": [
    "---\n",
    "\n",
    "## Lesson 4: if condition = If it rains, take an umbrella\n",
    "<a id='lesson-4'></a>"
   ]
  },
  {
   "cell_type": "markdown",
   "id": "04fa100a",
   "metadata": {},
   "source": [
    "**Story:** We decide based on the weather.\n",
    "\n",
    "**Unplugged Activity:** Show 'rainy/sunny' cards; students say 'umbrella/sunglasses'."
   ]
  },
  {
   "cell_type": "markdown",
   "id": "f939ebed",
   "metadata": {},
   "source": [
    "**Try this code:**"
   ]
  },
  {
   "cell_type": "code",
   "execution_count": null,
   "id": "ff4fb4fc",
   "metadata": {},
   "outputs": [],
   "source": [
    "weather = 'rainy'\n",
    "if weather == 'rainy':\n",
    "    print('Take an umbrella')\n",
    "else:\n",
    "    print('No umbrella needed')"
   ]
  },
  {
   "cell_type": "markdown",
   "id": "03d23836",
   "metadata": {},
   "source": [
    "**Challenge:** Add a 'snowy' case."
   ]
  },
  {
   "cell_type": "markdown",
   "id": "19e9a89f",
   "metadata": {},
   "source": [
    "---\n",
    "\n",
    "## Lesson 5: for loop = sharing candies\n",
    "<a id='lesson-5'></a>"
   ]
  },
  {
   "cell_type": "markdown",
   "id": "0ce402af",
   "metadata": {},
   "source": [
    "**Story:** Give one candy to each student.\n",
    "\n",
    "**Unplugged Activity:** Distribute 5 candies to 5 students and count aloud."
   ]
  },
  {
   "cell_type": "markdown",
   "id": "091d32f3",
   "metadata": {},
   "source": [
    "**Try this code:**"
   ]
  },
  {
   "cell_type": "code",
   "execution_count": null,
   "id": "88784b4f",
   "metadata": {},
   "outputs": [],
   "source": [
    "for i in range(1, 6):\n",
    "    print('Candy for student', i)"
   ]
  },
  {
   "cell_type": "markdown",
   "id": "ab4f5414",
   "metadata": {},
   "source": [
    "**Challenge:** Print only even numbers from 2 to 10."
   ]
  },
  {
   "cell_type": "markdown",
   "id": "8dcd6da4",
   "metadata": {},
   "source": [
    "---\n",
    "\n",
    "## Lesson 6: while loop = until we find the ball\n",
    "<a id='lesson-6'></a>"
   ]
  },
  {
   "cell_type": "markdown",
   "id": "41503367",
   "metadata": {},
   "source": [
    "**Story:** Check boxes one by one until we find the ball.\n",
    "\n",
    "**Unplugged Activity:** Hide a ball in one of the boxes."
   ]
  },
  {
   "cell_type": "markdown",
   "id": "e9173af9",
   "metadata": {},
   "source": [
    "**Try this code:**"
   ]
  },
  {
   "cell_type": "code",
   "execution_count": null,
   "id": "e2538ced",
   "metadata": {},
   "outputs": [],
   "source": [
    "box = 1\n",
    "while box != 4:     # suppose ball in box 4\n",
    "    print('Box', box, 'was empty')\n",
    "    box += 1\n",
    "print('Found it!')"
   ]
  },
  {
   "cell_type": "markdown",
   "id": "9750ea2c",
   "metadata": {},
   "source": [
    "**Challenge:** If boxes end and not found, print 'Not found!'."
   ]
  },
  {
   "cell_type": "markdown",
   "id": "6ebddc15",
   "metadata": {},
   "source": [
    "---\n",
    "\n",
    "## Lesson 7: Function = recipe\n",
    "<a id='lesson-7'></a>"
   ]
  },
  {
   "cell_type": "markdown",
   "id": "d09f4eca",
   "metadata": {},
   "source": [
    "**Story:** We give ingredients (parameters) and get a cake (output).\n",
    "\n",
    "**Unplugged Activity:** Write 'ingredients' on paper and number the steps."
   ]
  },
  {
   "cell_type": "markdown",
   "id": "2f3f2043",
   "metadata": {},
   "source": [
    "**Try this code:**"
   ]
  },
  {
   "cell_type": "code",
   "execution_count": null,
   "id": "6db5029e",
   "metadata": {},
   "outputs": [],
   "source": [
    "def add(a, b):\n",
    "    return a + b\n",
    "\n",
    "print(add(2, 5))"
   ]
  },
  {
   "cell_type": "markdown",
   "id": "d51ad951",
   "metadata": {},
   "source": [
    "**Challenge:** Write a function that returns the average of two numbers."
   ]
  },
  {
   "cell_type": "markdown",
   "id": "ac78c1bd",
   "metadata": {},
   "source": [
    "---\n",
    "\n",
    "## Lesson 8: List = backpack with pockets\n",
    "<a id='lesson-8'></a>"
   ]
  },
  {
   "cell_type": "markdown",
   "id": "b67b8479",
   "metadata": {},
   "source": [
    "**Story:** Several items next to each other in one backpack.\n",
    "\n",
    "**Unplugged Activity:** Put three cards (notebook, pencil, eraser) into one 'backpack'."
   ]
  },
  {
   "cell_type": "markdown",
   "id": "fa6f57bd",
   "metadata": {},
   "source": [
    "**Try this code:**"
   ]
  },
  {
   "cell_type": "code",
   "execution_count": null,
   "id": "09632ccb",
   "metadata": {},
   "outputs": [],
   "source": [
    "bag = ['notebook', 'pencil', 'eraser']\n",
    "print(bag[0])      # notebook\n",
    "bag.append('ruler')\n",
    "print(bag)"
   ]
  },
  {
   "cell_type": "markdown",
   "id": "e79323d0",
   "metadata": {},
   "source": [
    "**Challenge:** Print the first and the last item."
   ]
  },
  {
   "cell_type": "markdown",
   "id": "97debde9",
   "metadata": {},
   "source": [
    "---\n",
    "\n",
    "## Lesson 9: Dict = labeled drawers\n",
    "<a id='lesson-9'></a>"
   ]
  },
  {
   "cell_type": "markdown",
   "id": "26baaa21",
   "metadata": {},
   "source": [
    "**Story:** Each drawer has a label and content.\n",
    "\n",
    "**Unplugged Activity:** Label drawers: 'ali':12, 'sara':11."
   ]
  },
  {
   "cell_type": "markdown",
   "id": "2faacfe2",
   "metadata": {},
   "source": [
    "**Try this code:**"
   ]
  },
  {
   "cell_type": "code",
   "execution_count": null,
   "id": "7e23757a",
   "metadata": {},
   "outputs": [],
   "source": [
    "ages = {'ali': 12, 'sara': 11}\n",
    "print(ages['ali'])\n",
    "ages['reza'] = 10\n",
    "print(ages)"
   ]
  },
  {
   "cell_type": "markdown",
   "id": "a08ef0b2",
   "metadata": {},
   "source": [
    "**Challenge:** If key 'sara' exists, set age to 12."
   ]
  },
  {
   "cell_type": "markdown",
   "id": "ff2157f6",
   "metadata": {},
   "source": [
    "---\n",
    "\n",
    "## Lesson 10: Booleans & operators = light switch\n",
    "<a id='lesson-10'></a>"
   ]
  },
  {
   "cell_type": "markdown",
   "id": "fb0beecf",
   "metadata": {},
   "source": [
    "**Story:** On/Off; AND/OR are like rules to leave the class.\n",
    "\n",
    "**Unplugged Activity:** Cards: 'Parent Permission' and 'Library Card'. Try combinations."
   ]
  },
  {
   "cell_type": "markdown",
   "id": "46276369",
   "metadata": {},
   "source": [
    "**Try this code:**"
   ]
  },
  {
   "cell_type": "code",
   "execution_count": null,
   "id": "664e6755",
   "metadata": {},
   "outputs": [],
   "source": [
    "has_permission = True\n",
    "has_card = False\n",
    "print(has_permission and has_card)  # both?\n",
    "print(has_permission or has_card)   # either?\n",
    "print(not has_card)"
   ]
  },
  {
   "cell_type": "markdown",
   "id": "2292dd55",
   "metadata": {},
   "source": [
    "**Challenge:** Show an example with NOT."
   ]
  },
  {
   "cell_type": "markdown",
   "id": "9bff254b",
   "metadata": {},
   "source": [
    "---\n",
    "\n",
    "## Lesson 11: Errors & exceptions = fragile glass\n",
    "<a id='lesson-11'></a>"
   ]
  },
  {
   "cell_type": "markdown",
   "id": "0bff76b3",
   "metadata": {},
   "source": [
    "**Story:** If the glass drops, don't break—catch the error kindly.\n",
    "\n",
    "**Unplugged Activity:** Put a 'warning' sticker and act a safe scenario."
   ]
  },
  {
   "cell_type": "markdown",
   "id": "a8f58d72",
   "metadata": {},
   "source": [
    "**Try this code:**"
   ]
  },
  {
   "cell_type": "code",
   "execution_count": null,
   "id": "b2f5186e",
   "metadata": {},
   "outputs": [],
   "source": [
    "try:\n",
    "    x = int('12a')\n",
    "except ValueError:\n",
    "    print(\"Oops! That's not a number.\")"
   ]
  },
  {
   "cell_type": "markdown",
   "id": "5322089a",
   "metadata": {},
   "source": [
    "**Challenge:** Handle division by zero safely."
   ]
  },
  {
   "cell_type": "markdown",
   "id": "89dbdbf5",
   "metadata": {},
   "source": [
    "---\n",
    "\n",
    "## Lesson 12: Modules = toolbox\n",
    "<a id='lesson-12'></a>"
   ]
  },
  {
   "cell_type": "markdown",
   "id": "80413dd8",
   "metadata": {},
   "source": [
    "**Story:** We bring ready-made tools.\n",
    "\n",
    "**Unplugged Activity:** Connect 'tools' (ruler, set square) to the 'model building' project."
   ]
  },
  {
   "cell_type": "markdown",
   "id": "0bf39bd3",
   "metadata": {},
   "source": [
    "**Try this code:**"
   ]
  },
  {
   "cell_type": "code",
   "execution_count": null,
   "id": "60ebf93f",
   "metadata": {},
   "outputs": [],
   "source": [
    "import math\n",
    "print(math.sqrt(16))"
   ]
  },
  {
   "cell_type": "markdown",
   "id": "3dcbed7c",
   "metadata": {},
   "source": [
    "**Challenge:** From random, generate a number between 1 and 6 (a die)."
   ]
  }
 ],
 "metadata": {
  "authors": [
   {
    "name": "Tirotir AI — Hoosh Masnooe (tirotir.ir)"
   }
  ],
  "language_info": {
   "name": "python",
   "pygments_lexer": "ipython3"
  }
 },
 "nbformat": 4,
 "nbformat_minor": 5
}