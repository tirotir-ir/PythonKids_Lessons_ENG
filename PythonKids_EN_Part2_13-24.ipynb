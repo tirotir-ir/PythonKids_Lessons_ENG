{
 "cells": [
  {
   "cell_type": "markdown",
   "id": "cae2fec1",
   "metadata": {},
   "source": [
    "\n",
    "<p align=\"left\">\n",
    "  <img src=\"tirotir-logo.svg\" width=\"220\" alt=\"Tirotir AI logo\">\n",
    "</p>\n",
    "\n",
    "# Python for Kids — Part 2: Intermediate Concepts (Lessons 13–24)\n",
    "**Tirotir AI · Hoosh Masnooe (AI Training Center)** · **tirotir.ir**  \n",
    "Version: **2025-08-30**\n",
    "\n",
    "Each lesson has: **Story → Unplugged Activity → Short Code → Challenge**.\n"
   ]
  },
  {
   "cell_type": "markdown",
   "id": "45bb36a3",
   "metadata": {},
   "source": [
    "## Table of Contents\n",
    "- [Lesson 13](#lesson-13)\n",
    "- [Lesson 14](#lesson-14)\n",
    "- [Lesson 15](#lesson-15)\n",
    "- [Lesson 16](#lesson-16)\n",
    "- [Lesson 17](#lesson-17)\n",
    "- [Lesson 18](#lesson-18)\n",
    "- [Lesson 19](#lesson-19)\n",
    "- [Lesson 20](#lesson-20)\n",
    "- [Lesson 21](#lesson-21)\n",
    "- [Lesson 22](#lesson-22)\n",
    "- [Lesson 23](#lesson-23)\n",
    "- [Lesson 24](#lesson-24)"
   ]
  },
  {
   "cell_type": "markdown",
   "id": "7f03155c",
   "metadata": {},
   "source": [
    "---\n",
    "\n",
    "## Lesson 13: Set = no-duplicates box\n",
    "<a id='lesson-13'></a>"
   ]
  },
  {
   "cell_type": "markdown",
   "id": "72fa4056",
   "metadata": {},
   "source": [
    "**Story:** Each thing stays only once.\n",
    "\n",
    "**Unplugged Activity:** Give duplicate animal cards; keep only one of each."
   ]
  },
  {
   "cell_type": "markdown",
   "id": "b5e76535",
   "metadata": {},
   "source": [
    "**Try this code:**"
   ]
  },
  {
   "cell_type": "code",
   "execution_count": null,
   "id": "de477820",
   "metadata": {},
   "outputs": [],
   "source": [
    "animals = {'cat', 'dog', 'cat'}\n",
    "animals.add('fish')\n",
    "print(animals)\n",
    "print(len(animals))  # how many kinds?"
   ]
  },
  {
   "cell_type": "markdown",
   "id": "c2b1e8f6",
   "metadata": {},
   "source": [
    "**Challenge:** Show one printed example difference between set and list."
   ]
  },
  {
   "cell_type": "markdown",
   "id": "bb43bf5f",
   "metadata": {},
   "source": [
    "---\n",
    "\n",
    "## Lesson 14: Tuple = locked box\n",
    "<a id='lesson-14'></a>"
   ]
  },
  {
   "cell_type": "markdown",
   "id": "10dd6bf1",
   "metadata": {},
   "source": [
    "**Story:** Contents are fixed; cannot change.\n",
    "\n",
    "**Unplugged Activity:** Drop 3 beads in a clear tube and lock it."
   ]
  },
  {
   "cell_type": "markdown",
   "id": "42223f16",
   "metadata": {},
   "source": [
    "**Try this code:**"
   ]
  },
  {
   "cell_type": "code",
   "execution_count": null,
   "id": "85491e8e",
   "metadata": {},
   "outputs": [],
   "source": [
    "pos = (3, 4)   # fixed point\n",
    "print(pos[0], pos[1])"
   ]
  },
  {
   "cell_type": "markdown",
   "id": "c71980ce",
   "metadata": {},
   "source": [
    "**Challenge:** Try pos[0] = 5 and see the error, then explain."
   ]
  },
  {
   "cell_type": "markdown",
   "id": "73ea1402",
   "metadata": {},
   "source": [
    "---\n",
    "\n",
    "## Lesson 15: Slicing = cutting cake\n",
    "<a id='lesson-15'></a>"
   ]
  },
  {
   "cell_type": "markdown",
   "id": "50d8660d",
   "metadata": {},
   "source": [
    "**Story:** Take slice 2 to 5.\n",
    "\n",
    "**Unplugged Activity:** Cut a numbered paper strip from 2 to 5."
   ]
  },
  {
   "cell_type": "markdown",
   "id": "f8dbb096",
   "metadata": {},
   "source": [
    "**Try this code:**"
   ]
  },
  {
   "cell_type": "code",
   "execution_count": null,
   "id": "770b9ed9",
   "metadata": {},
   "outputs": [],
   "source": [
    "nums = [1,2,3,4,5,6,7]\n",
    "print(nums[2:5])   # 3 to 5"
   ]
  },
  {
   "cell_type": "markdown",
   "id": "f48f5f74",
   "metadata": {},
   "source": [
    "**Challenge:** Print start to 3, and 4 to end."
   ]
  },
  {
   "cell_type": "markdown",
   "id": "e368ffe3",
   "metadata": {},
   "source": [
    "---\n",
    "\n",
    "## Lesson 16: Iterating a list = visiting booths\n",
    "<a id='lesson-16'></a>"
   ]
  },
  {
   "cell_type": "markdown",
   "id": "7ef3c62a",
   "metadata": {},
   "source": [
    "**Story:** Collect a sticker from each booth.\n",
    "\n",
    "**Unplugged Activity:** Groups read wall cards one by one."
   ]
  },
  {
   "cell_type": "markdown",
   "id": "3e4fb974",
   "metadata": {},
   "source": [
    "**Try this code:**"
   ]
  },
  {
   "cell_type": "code",
   "execution_count": null,
   "id": "87a22cbb",
   "metadata": {},
   "outputs": [],
   "source": [
    "stalls = ['fruit','toys','books']\n",
    "for i, s in enumerate(stalls, start=1):\n",
    "    print(i, 'visit:', s)"
   ]
  },
  {
   "cell_type": "markdown",
   "id": "5fc498da",
   "metadata": {},
   "source": [
    "**Challenge:** Show numbering 1, 2, 3 next to names."
   ]
  },
  {
   "cell_type": "markdown",
   "id": "9e740dc7",
   "metadata": {},
   "source": [
    "---\n",
    "\n",
    "## Lesson 17: Nested loops = mini multiplication table\n",
    "<a id='lesson-17'></a>"
   ]
  },
  {
   "cell_type": "markdown",
   "id": "1c8e37ae",
   "metadata": {},
   "source": [
    "**Story:** Each row shakes hands with each column.\n",
    "\n",
    "**Unplugged Activity:** Build 1–3 table on paper."
   ]
  },
  {
   "cell_type": "markdown",
   "id": "eeaf1665",
   "metadata": {},
   "source": [
    "**Try this code:**"
   ]
  },
  {
   "cell_type": "code",
   "execution_count": null,
   "id": "d071a8fd",
   "metadata": {},
   "outputs": [],
   "source": [
    "for i in range(1,4):\n",
    "    for j in range(1,4):\n",
    "        print(i*j, end=' ')\n",
    "    print()"
   ]
  },
  {
   "cell_type": "markdown",
   "id": "691f6463",
   "metadata": {},
   "source": [
    "**Challenge:** Print only even results."
   ]
  },
  {
   "cell_type": "markdown",
   "id": "2b4bc77d",
   "metadata": {},
   "source": [
    "---\n",
    "\n",
    "## Lesson 18: Turtle = drawing robot\n",
    "<a id='lesson-18'></a>"
   ]
  },
  {
   "cell_type": "markdown",
   "id": "7660c6e1",
   "metadata": {},
   "source": [
    "**Story:** Robot draws with forward/turn commands.\n",
    "\n",
    "**Unplugged Activity:** A 'human turtle': others say '3 steps forward, 90° left'."
   ]
  },
  {
   "cell_type": "markdown",
   "id": "e4f8c861",
   "metadata": {},
   "source": [
    "**Try this code:**"
   ]
  },
  {
   "cell_type": "code",
   "execution_count": null,
   "id": "524d7a41",
   "metadata": {},
   "outputs": [],
   "source": [
    "# Note: some online environments may not show the turtle window.\n",
    "import turtle as t\n",
    "for _ in range(4):\n",
    "    t.forward(100); t.left(90)\n",
    "t.done()"
   ]
  },
  {
   "cell_type": "markdown",
   "id": "d1455a4f",
   "metadata": {},
   "source": [
    "**Challenge:** Draw a triangle and a pentagon."
   ]
  },
  {
   "cell_type": "markdown",
   "id": "3756f515",
   "metadata": {},
   "source": [
    "---\n",
    "\n",
    "## Lesson 19: Random = dice\n",
    "<a id='lesson-19'></a>"
   ]
  },
  {
   "cell_type": "markdown",
   "id": "7d63a4c8",
   "metadata": {},
   "source": [
    "**Story:** Random number for a guessing game.\n",
    "\n",
    "**Unplugged Activity:** Roll a real die and record guesses."
   ]
  },
  {
   "cell_type": "markdown",
   "id": "5983a52e",
   "metadata": {},
   "source": [
    "**Try this code:**"
   ]
  },
  {
   "cell_type": "code",
   "execution_count": null,
   "id": "81db5183",
   "metadata": {},
   "outputs": [],
   "source": [
    "import random\n",
    "x = random.randint(1,6)\n",
    "print('dice:', x)"
   ]
  },
  {
   "cell_type": "markdown",
   "id": "92b998bf",
   "metadata": {},
   "source": [
    "**Challenge:** Build a 'guess a number 1–20' game with three tries."
   ]
  },
  {
   "cell_type": "markdown",
   "id": "2031eb3d",
   "metadata": {},
   "source": [
    "---\n",
    "\n",
    "## Lesson 20: Default parameter = default salt\n",
    "<a id='lesson-20'></a>"
   ]
  },
  {
   "cell_type": "markdown",
   "id": "7d866d73",
   "metadata": {},
   "source": [
    "**Story:** If we don't say how much salt, it adds one spoon.\n",
    "\n",
    "**Unplugged Activity:** Write 'salt=1 spoon' unless someone gives another number."
   ]
  },
  {
   "cell_type": "markdown",
   "id": "d045f73b",
   "metadata": {},
   "source": [
    "**Try this code:**"
   ]
  },
  {
   "cell_type": "code",
   "execution_count": null,
   "id": "6e98b9f8",
   "metadata": {},
   "outputs": [],
   "source": [
    "def greet(name='friend'):\n",
    "    print('Hello', name)\n",
    "\n",
    "greet()\n",
    "greet('Sara')"
   ]
  },
  {
   "cell_type": "markdown",
   "id": "e18cf01e",
   "metadata": {},
   "source": [
    "**Challenge:** Make add function with default b=0."
   ]
  },
  {
   "cell_type": "markdown",
   "id": "3b9fb18d",
   "metadata": {},
   "source": [
    "---\n",
    "\n",
    "## Lesson 21: return vs print = say or give back\n",
    "<a id='lesson-21'></a>"
   ]
  },
  {
   "cell_type": "markdown",
   "id": "2f30e90b",
   "metadata": {},
   "source": [
    "**Story:** 'Saying the answer' ≠ 'returning the answer' to a box.\n",
    "\n",
    "**Unplugged Activity:** One 'says the answer', one 'puts the answer in an envelope'."
   ]
  },
  {
   "cell_type": "markdown",
   "id": "a783efa4",
   "metadata": {},
   "source": [
    "**Try this code:**"
   ]
  },
  {
   "cell_type": "code",
   "execution_count": null,
   "id": "859009c3",
   "metadata": {},
   "outputs": [],
   "source": [
    "def add(a,b):\n",
    "    return a+b\n",
    "\n",
    "x = add(2,3)  # x=5\n",
    "print(x)"
   ]
  },
  {
   "cell_type": "markdown",
   "id": "18ddef30",
   "metadata": {},
   "source": [
    "**Challenge:** Show why return is needed for later calculations."
   ]
  },
  {
   "cell_type": "markdown",
   "id": "2c9c453a",
   "metadata": {},
   "source": [
    "---\n",
    "\n",
    "## Lesson 22: Class/Object = blueprint & cars\n",
    "<a id='lesson-22'></a>"
   ]
  },
  {
   "cell_type": "markdown",
   "id": "d2efba80",
   "metadata": {},
   "source": [
    "**Story:** We make a 'blueprint', then build several 'cars' from it.\n",
    "\n",
    "**Unplugged Activity:** Draw a simple blueprint and make 3 labels 'car1/2/3'."
   ]
  },
  {
   "cell_type": "markdown",
   "id": "c51583b6",
   "metadata": {},
   "source": [
    "**Try this code:**"
   ]
  },
  {
   "cell_type": "code",
   "execution_count": null,
   "id": "7f41b39f",
   "metadata": {},
   "outputs": [],
   "source": [
    "class Car:\n",
    "    def __init__(self, color):\n",
    "        self.color = color\n",
    "        self.speed = 0\n",
    "    def honk(self):\n",
    "        print('beep!')\n",
    "    def accelerate(self, dv):\n",
    "        self.speed += dv\n",
    "\n",
    "c1 = Car('red')\n",
    "c1.honk()\n",
    "c1.accelerate(10)\n",
    "print('speed:', c1.speed)"
   ]
  },
  {
   "cell_type": "markdown",
   "id": "d9021f3f",
   "metadata": {},
   "source": [
    "**Challenge:** Add speed and increase by 10."
   ]
  },
  {
   "cell_type": "markdown",
   "id": "74a3689c",
   "metadata": {},
   "source": [
    "---\n",
    "\n",
    "## Lesson 23: File I/O = class diary\n",
    "<a id='lesson-23'></a>"
   ]
  },
  {
   "cell_type": "markdown",
   "id": "3854233a",
   "metadata": {},
   "source": [
    "**Story:** Save something in a notebook and read it later.\n",
    "\n",
    "**Unplugged Activity:** Each student writes one sentence in the 'class diary'."
   ]
  },
  {
   "cell_type": "markdown",
   "id": "12047353",
   "metadata": {},
   "source": [
    "**Try this code:**"
   ]
  },
  {
   "cell_type": "code",
   "execution_count": null,
   "id": "f92ad068",
   "metadata": {},
   "outputs": [],
   "source": [
    "with open('memo.txt','w',encoding='utf-8') as f:\n",
    "    f.write('hello\\n')\n",
    "print(open('memo.txt','r',encoding='utf-8').read())"
   ]
  },
  {
   "cell_type": "markdown",
   "id": "314b7935",
   "metadata": {},
   "source": [
    "**Challenge:** Save name and age per line."
   ]
  },
  {
   "cell_type": "markdown",
   "id": "e95d0d98",
   "metadata": {},
   "source": [
    "---\n",
    "\n",
    "## Lesson 24: Debugging = detective magnifier\n",
    "<a id='lesson-24'></a>"
   ]
  },
  {
   "cell_type": "markdown",
   "id": "c95664db",
   "metadata": {},
   "source": [
    "**Story:** We follow the trail of a mistake.\n",
    "\n",
    "**Unplugged Activity:** Write a tiny 'bug' on paper for students to find."
   ]
  },
  {
   "cell_type": "markdown",
   "id": "793b1a8e",
   "metadata": {},
   "source": [
    "**Try this code:**"
   ]
  },
  {
   "cell_type": "code",
   "execution_count": null,
   "id": "334a3316",
   "metadata": {},
   "outputs": [],
   "source": [
    "nums = [1,2,3]\n",
    "# bug: index 3 doesn't exist\n",
    "try:\n",
    "    print(nums[3])\n",
    "except IndexError:\n",
    "    print('Wrong index!')"
   ]
  },
  {
   "cell_type": "markdown",
   "id": "97a59ea7",
   "metadata": {},
   "source": [
    "**Challenge:** Make another common bug and handle with try/except."
   ]
  }
 ],
 "metadata": {
  "authors": [
   {
    "name": "Tirotir AI — Hoosh Masnooe (tirotir.ir)"
   }
  ],
  "language_info": {
   "name": "python",
   "pygments_lexer": "ipython3"
  }
 },
 "nbformat": 4,
 "nbformat_minor": 5
}