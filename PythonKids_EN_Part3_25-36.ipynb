{
 "cells": [
  {
   "cell_type": "markdown",
   "id": "6d662022",
   "metadata": {},
   "source": [
    "\n",
    "<p align=\"left\">\n",
    "  <img src=\"tirotir-logo.svg\" width=\"220\" alt=\"Tirotir AI logo\">\n",
    "</p>\n",
    "\n",
    "# Python for Kids — Part 3: Algorithms & Simulation (Lessons 25–36)\n",
    "**Tirotir AI · Hoosh Masnooe (AI Training Center)** · **tirotir.ir**  \n",
    "Version: **2025-08-30**\n",
    "\n",
    "Each lesson has: **Story → Unplugged Activity → Short Code → Challenge**.\n"
   ]
  },
  {
   "cell_type": "markdown",
   "id": "e47847ac",
   "metadata": {},
   "source": [
    "## Table of Contents\n",
    "- [Lesson 25](#lesson-25)\n",
    "- [Lesson 26](#lesson-26)\n",
    "- [Lesson 27](#lesson-27)\n",
    "- [Lesson 28](#lesson-28)\n",
    "- [Lesson 29](#lesson-29)\n",
    "- [Lesson 30](#lesson-30)\n",
    "- [Lesson 31](#lesson-31)\n",
    "- [Lesson 32](#lesson-32)\n",
    "- [Lesson 33](#lesson-33)\n",
    "- [Lesson 34](#lesson-34)\n",
    "- [Lesson 35](#lesson-35)\n",
    "- [Lesson 36](#lesson-36)"
   ]
  },
  {
   "cell_type": "markdown",
   "id": "7614ed4f",
   "metadata": {},
   "source": [
    "---\n",
    "\n",
    "## Lesson 25: Vote tally\n",
    "<a id='lesson-25'></a>"
   ]
  },
  {
   "cell_type": "markdown",
   "id": "332f38d6",
   "metadata": {},
   "source": [
    "**Story:** Each paper is a vote for apple/banana.\n",
    "\n",
    "**Unplugged Activity:** Drop papers into 'apple/banana' bins and count."
   ]
  },
  {
   "cell_type": "markdown",
   "id": "445d8eb1",
   "metadata": {},
   "source": [
    "**Try this code:**"
   ]
  },
  {
   "cell_type": "code",
   "execution_count": null,
   "id": "2571b3f6",
   "metadata": {},
   "outputs": [],
   "source": [
    "votes = ['apple','banana','apple','apple','banana']\n",
    "tally = {}\n",
    "for v in votes:\n",
    "    tally[v] = tally.get(v, 0) + 1\n",
    "print(tally)"
   ]
  },
  {
   "cell_type": "markdown",
   "id": "40900c88",
   "metadata": {},
   "source": [
    "**Challenge:** Print the winner."
   ]
  },
  {
   "cell_type": "markdown",
   "id": "e647f4b8",
   "metadata": {},
   "source": [
    "---\n",
    "\n",
    "## Lesson 26: Max/Min = heavier stone\n",
    "<a id='lesson-26'></a>"
   ]
  },
  {
   "cell_type": "markdown",
   "id": "bf406a05",
   "metadata": {},
   "source": [
    "**Story:** Find the heaviest among stones.\n",
    "\n",
    "**Unplugged Activity:** Envelopes with numbers—find the heaviest."
   ]
  },
  {
   "cell_type": "markdown",
   "id": "57543139",
   "metadata": {},
   "source": [
    "**Try this code:**"
   ]
  },
  {
   "cell_type": "code",
   "execution_count": null,
   "id": "b57f7e75",
   "metadata": {},
   "outputs": [],
   "source": [
    "nums = [4, 9, 2, 7, 5]\n",
    "m = nums[0]\n",
    "for x in nums:\n",
    "    if x > m:\n",
    "        m = x\n",
    "print('max =', m)"
   ]
  },
  {
   "cell_type": "markdown",
   "id": "3211e935",
   "metadata": {},
   "source": [
    "**Challenge:** Also find the minimum."
   ]
  },
  {
   "cell_type": "markdown",
   "id": "8db4a395",
   "metadata": {},
   "source": [
    "---\n",
    "\n",
    "## Lesson 27: Linear search = lost key\n",
    "<a id='lesson-27'></a>"
   ]
  },
  {
   "cell_type": "markdown",
   "id": "47b56a07",
   "metadata": {},
   "source": [
    "**Story:** Search drawers 1 to 5 for the key.\n",
    "\n",
    "**Unplugged Activity:** Hide a key in one envelope; check one by one."
   ]
  },
  {
   "cell_type": "markdown",
   "id": "f27c20c3",
   "metadata": {},
   "source": [
    "**Try this code:**"
   ]
  },
  {
   "cell_type": "code",
   "execution_count": null,
   "id": "8652bedf",
   "metadata": {},
   "outputs": [],
   "source": [
    "items = ['pen','key','book']\n",
    "target = 'key'\n",
    "found = False\n",
    "for it in items:\n",
    "    if it == target:\n",
    "        found = True\n",
    "        break\n",
    "print(found)"
   ]
  },
  {
   "cell_type": "markdown",
   "id": "d369ec51",
   "metadata": {},
   "source": [
    "**Challenge:** If not found, print 'not found'."
   ]
  },
  {
   "cell_type": "markdown",
   "id": "c68e1cb7",
   "metadata": {},
   "source": [
    "---\n",
    "\n",
    "## Lesson 28: Binary search (sorted list) = number guessing\n",
    "<a id='lesson-28'></a>"
   ]
  },
  {
   "cell_type": "markdown",
   "id": "0c175e96",
   "metadata": {},
   "source": [
    "**Story:** Ask 'higher/lower?' until the answer.\n",
    "\n",
    "**Unplugged Activity:** Pick a number 1..50; others guess with higher/lower."
   ]
  },
  {
   "cell_type": "markdown",
   "id": "d7350bcf",
   "metadata": {},
   "source": [
    "**Try this code:**"
   ]
  },
  {
   "cell_type": "code",
   "execution_count": null,
   "id": "516c3785",
   "metadata": {},
   "outputs": [],
   "source": [
    "arr = [2,5,9,12,18,21,30]\n",
    "lo, hi, t = 0, len(arr)-1, 18\n",
    "found = False\n",
    "while lo <= hi:\n",
    "    mid = (lo+hi)//2\n",
    "    if arr[mid] == t:\n",
    "        print('found'); found = True; break\n",
    "    if arr[mid] < t:\n",
    "        lo = mid + 1\n",
    "    else:\n",
    "        hi = mid - 1\n",
    "if not found:\n",
    "    print('not found')"
   ]
  },
  {
   "cell_type": "markdown",
   "id": "a5096f0d",
   "metadata": {},
   "source": [
    "**Challenge:** Ensure 'not found' prints when missing."
   ]
  },
  {
   "cell_type": "markdown",
   "id": "37406182",
   "metadata": {},
   "source": [
    "---\n",
    "\n",
    "## Lesson 29: One-pass bubble idea = height line\n",
    "<a id='lesson-29'></a>"
   ]
  },
  {
   "cell_type": "markdown",
   "id": "12a28447",
   "metadata": {},
   "source": [
    "**Story:** Swap neighbors if left is taller than right.\n",
    "\n",
    "**Unplugged Activity:** Students line up by height and swap once left-to-right."
   ]
  },
  {
   "cell_type": "markdown",
   "id": "9a559436",
   "metadata": {},
   "source": [
    "**Try this code:**"
   ]
  },
  {
   "cell_type": "code",
   "execution_count": null,
   "id": "4a6962ac",
   "metadata": {},
   "outputs": [],
   "source": [
    "nums = [5,3,4,1]\n",
    "for i in range(len(nums)-1):\n",
    "    if nums[i] > nums[i+1]:\n",
    "        nums[i], nums[i+1] = nums[i+1], nums[i]\n",
    "print(nums)"
   ]
  },
  {
   "cell_type": "markdown",
   "id": "09d3775d",
   "metadata": {},
   "source": [
    "**Challenge:** Add the outer loop to fully sort."
   ]
  },
  {
   "cell_type": "markdown",
   "id": "f4227f20",
   "metadata": {},
   "source": [
    "---\n",
    "\n",
    "## Lesson 30: Built-in sort = magic ruler\n",
    "<a id='lesson-30'></a>"
   ]
  },
  {
   "cell_type": "markdown",
   "id": "86cf24a8",
   "metadata": {},
   "source": [
    "**Story:** Sometimes we use the 'magic ruler'.\n",
    "\n",
    "**Unplugged Activity:** Auto-arrange cards from small to big."
   ]
  },
  {
   "cell_type": "markdown",
   "id": "11426b9b",
   "metadata": {},
   "source": [
    "**Try this code:**"
   ]
  },
  {
   "cell_type": "code",
   "execution_count": null,
   "id": "0d16053c",
   "metadata": {},
   "outputs": [],
   "source": [
    "nums = [9,1,7,3,5]\n",
    "print(sorted(nums))\n",
    "print(sorted(nums, reverse=True))"
   ]
  },
  {
   "cell_type": "markdown",
   "id": "5a646f19",
   "metadata": {},
   "source": [
    "**Challenge:** Print in descending order."
   ]
  },
  {
   "cell_type": "markdown",
   "id": "4a625958",
   "metadata": {},
   "source": [
    "---\n",
    "\n",
    "## Lesson 31: Simple Run-Length Encoding = prayer beads\n",
    "<a id='lesson-31'></a>"
   ]
  },
  {
   "cell_type": "markdown",
   "id": "9755b9e3",
   "metadata": {},
   "source": [
    "**Story:** Count consecutive beads: 'aaabbbc' → 'a3b3c1'.\n",
    "\n",
    "**Unplugged Activity:** Group same-color beads and count each group."
   ]
  },
  {
   "cell_type": "markdown",
   "id": "1c5be73a",
   "metadata": {},
   "source": [
    "**Try this code:**"
   ]
  },
  {
   "cell_type": "code",
   "execution_count": null,
   "id": "a8af91c6",
   "metadata": {},
   "outputs": [],
   "source": [
    "s, out, c = 'aaabbbc', '', 1\n",
    "for i in range(1, len(s)):\n",
    "    if s[i] == s[i-1]:\n",
    "        c += 1\n",
    "    else:\n",
    "        out += s[i-1] + str(c); c = 1\n",
    "out += s[-1] + str(c)\n",
    "print(out)"
   ]
  },
  {
   "cell_type": "markdown",
   "id": "743d88d0",
   "metadata": {},
   "source": [
    "**Challenge:** Do the reverse: 'a3b2' → 'aaabb'."
   ]
  },
  {
   "cell_type": "markdown",
   "id": "2531720a",
   "metadata": {},
   "source": [
    "---\n",
    "\n",
    "## Lesson 32: Average = class score\n",
    "<a id='lesson-32'></a>"
   ]
  },
  {
   "cell_type": "markdown",
   "id": "848f65ab",
   "metadata": {},
   "source": [
    "**Story:** Sum of scores divided by number of students.\n",
    "\n",
    "**Unplugged Activity:** Add three numbers with tally marks and divide."
   ]
  },
  {
   "cell_type": "markdown",
   "id": "6f87ac4f",
   "metadata": {},
   "source": [
    "**Try this code:**"
   ]
  },
  {
   "cell_type": "code",
   "execution_count": null,
   "id": "2866e7a0",
   "metadata": {},
   "outputs": [],
   "source": [
    "scores = [18, 15, 19, 16]\n",
    "avg = sum(scores) / len(scores)\n",
    "print('avg =', round(avg, 2))"
   ]
  },
  {
   "cell_type": "markdown",
   "id": "8414d527",
   "metadata": {},
   "source": [
    "**Challenge:** Find the score closest to the average."
   ]
  },
  {
   "cell_type": "markdown",
   "id": "a6830d04",
   "metadata": {},
   "source": [
    "---\n",
    "\n",
    "## Lesson 33: Letter frequency = most popular letter?\n",
    "<a id='lesson-33'></a>"
   ]
  },
  {
   "cell_type": "markdown",
   "id": "4ea9722c",
   "metadata": {},
   "source": [
    "**Story:** In a word, which letter repeats more?\n",
    "\n",
    "**Unplugged Activity:** Tick marks for each letter on paper."
   ]
  },
  {
   "cell_type": "markdown",
   "id": "551e07cc",
   "metadata": {},
   "source": [
    "**Try this code:**"
   ]
  },
  {
   "cell_type": "code",
   "execution_count": null,
   "id": "aff64b9a",
   "metadata": {},
   "outputs": [],
   "source": [
    "word = 'banana'\n",
    "freq = {}\n",
    "for ch in word:\n",
    "    freq[ch] = freq.get(ch, 0) + 1\n",
    "print(freq)\n",
    "mx_letter = max(freq, key=freq.get)\n",
    "print('most frequent:', mx_letter)"
   ]
  },
  {
   "cell_type": "markdown",
   "id": "e68cfce5",
   "metadata": {},
   "source": [
    "**Challenge:** Print the most frequent letter."
   ]
  },
  {
   "cell_type": "markdown",
   "id": "2ce957eb",
   "metadata": {},
   "source": [
    "---\n",
    "\n",
    "## Lesson 34: Probability simulation (coin) = how many flips?\n",
    "<a id='lesson-34'></a>"
   ]
  },
  {
   "cell_type": "markdown",
   "id": "ab2e5c22",
   "metadata": {},
   "source": [
    "**Story:** With many trials, see heads/tails ratio.\n",
    "\n",
    "**Unplugged Activity:** Flip a real coin 20 times and make a table."
   ]
  },
  {
   "cell_type": "markdown",
   "id": "11984025",
   "metadata": {},
   "source": [
    "**Try this code:**"
   ]
  },
  {
   "cell_type": "code",
   "execution_count": null,
   "id": "af951086",
   "metadata": {},
   "outputs": [],
   "source": [
    "import random\n",
    "n = 100\n",
    "heads = sum(1 for _ in range(n) if random.random() < 0.5)\n",
    "print('heads ratio =', heads/n)"
   ]
  },
  {
   "cell_type": "markdown",
   "id": "462206c7",
   "metadata": {},
   "source": [
    "**Challenge:** Use a 6-sided die and estimate P(6)."
   ]
  },
  {
   "cell_type": "markdown",
   "id": "be87ecf5",
   "metadata": {},
   "source": [
    "---\n",
    "\n",
    "## Lesson 35: State machine (traffic light)\n",
    "<a id='lesson-35'></a>"
   ]
  },
  {
   "cell_type": "markdown",
   "id": "0b777a9f",
   "metadata": {},
   "source": [
    "**Story:** Red→Green→Yellow→Red…\n",
    "\n",
    "**Unplugged Activity:** Raise color cards in order."
   ]
  },
  {
   "cell_type": "markdown",
   "id": "a0c22c46",
   "metadata": {},
   "source": [
    "**Try this code:**"
   ]
  },
  {
   "cell_type": "code",
   "execution_count": null,
   "id": "78db898c",
   "metadata": {},
   "outputs": [],
   "source": [
    "order = {{'red':'green','green':'yellow','yellow':'red'}}\n",
    "state = 'red'\n",
    "for _ in range(5):\n",
    "    print(state)\n",
    "    state = order[state]"
   ]
  },
  {
   "cell_type": "markdown",
   "id": "8642c31d",
   "metadata": {},
   "source": [
    "**Challenge:** Add a 'broken' mode that always stays red."
   ]
  },
  {
   "cell_type": "markdown",
   "id": "352f8764",
   "metadata": {},
   "source": [
    "---\n",
    "\n",
    "## Lesson 36: Countdown & time = paper rocket\n",
    "<a id='lesson-36'></a>"
   ]
  },
  {
   "cell_type": "markdown",
   "id": "48eb61ae",
   "metadata": {},
   "source": [
    "**Story:** Before launch: 3..2..1…\n",
    "\n",
    "**Unplugged Activity:** All count down together, then launch paper rockets."
   ]
  },
  {
   "cell_type": "markdown",
   "id": "2e59cbfd",
   "metadata": {},
   "source": [
    "**Try this code:**"
   ]
  },
  {
   "cell_type": "code",
   "execution_count": null,
   "id": "a8d09e0c",
   "metadata": {},
   "outputs": [],
   "source": [
    "import time\n",
    "for i in [3,2,1]:\n",
    "    print(i); time.sleep(1)\n",
    "print('Launch!')"
   ]
  },
  {
   "cell_type": "markdown",
   "id": "c829112d",
   "metadata": {},
   "source": [
    "**Challenge:** Make a 5‑minute study timer that prints a message each minute."
   ]
  }
 ],
 "metadata": {
  "authors": [
   {
    "name": "Tirotir AI — Hoosh Masnooe (tirotir.ir)"
   }
  ],
  "language_info": {
   "name": "python",
   "pygments_lexer": "ipython3"
  }
 },
 "nbformat": 4,
 "nbformat_minor": 5
}